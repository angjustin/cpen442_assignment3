{
 "cells": [
  {
   "cell_type": "code",
   "execution_count": 69,
   "metadata": {},
   "outputs": [],
   "source": [
    "from hashlib import sha256\n",
    "import base64\n",
    "import time\n",
    "from itertools import combinations\n",
    "import string"
   ]
  },
  {
   "cell_type": "code",
   "execution_count": 6,
   "metadata": {},
   "outputs": [],
   "source": [
    "def SHA256(string):\n",
    "    return sha256(string.encode(\"ascii\")).hexdigest()\n",
    "\n",
    "def mine_cpen_442_coin_incrementing_number(hash_of_preceding_coin, miner, number_of_leading_zeroes):\n",
    "    # SHA256(\"CPEN 442 Coin\" + \"2022\" + hash_of_preceding_coin + coin_blob + id_of_miner)\n",
    "    id_of_miner = SHA256(miner)\n",
    "    for i in range(0, 100000000000):\n",
    "        coin_blob = str(i)\n",
    "        string_to_hash = f'CPEN 442 Coin2022{hash_of_preceding_coin}{coin_blob}{id_of_miner}'\n",
    "        hashed = SHA256(string_to_hash)\n",
    "        if hashed.startswith(\"0\"*number_of_leading_zeroes):\n",
    "            print(\"Coin Blob in ASCII:\", coin_blob)\n",
    "            message_bytes = coin_blob.encode('ascii')\n",
    "            base64_bytes = base64.b64encode(message_bytes)\n",
    "            base64_message = base64_bytes.decode('ascii')\n",
    "            print(\"Coin Blob in base64:\", base64_message)\n",
    "            return hashed"
   ]
  },
  {
   "cell_type": "code",
   "execution_count": 94,
   "metadata": {},
   "outputs": [],
   "source": [
    "def mine_cpen_442_coin_random_string(hash_of_preceding_coin, miner, number_of_leading_zeroes):\n",
    "    # SHA256(\"CPEN 442 Coin\" + \"2022\" + hash_of_preceding_coin + coin_blob + id_of_miner)\n",
    "    id_of_miner = SHA256(miner)\n",
    "    for i in range(0, 100000000000):\n",
    "        comb = combinations(list(string.printable), i)\n",
    "        for j in list(comb):\n",
    "            coin_blob = ''.join(j)\n",
    "            string_to_hash = f'CPEN 442 Coin2022{hash_of_preceding_coin}{coin_blob}{id_of_miner}'\n",
    "            hashed = SHA256(string_to_hash)\n",
    "            if hashed.startswith(\"0\"*number_of_leading_zeroes):\n",
    "                print(\"Coin Blob in ASCII:\", coin_blob)\n",
    "                message_bytes = coin_blob.encode('ascii')\n",
    "                base64_bytes = base64.b64encode(message_bytes)\n",
    "                base64_message = base64_bytes.decode('ascii')\n",
    "                print(\"Coin Blob in base64:\", base64_message)\n",
    "                return hashed"
   ]
  },
  {
   "cell_type": "code",
   "execution_count": null,
   "metadata": {},
   "outputs": [
    {
     "name": "stdout",
     "output_type": "stream",
     "text": [
      "1666652462.2825756\n"
     ]
    }
   ],
   "source": [
    "hash_of_preceding_coin = \"a9c1ae3f4fc29d0be9113a42090a5ef9fdef93f5ec4777a008873972e60bb532\"\n",
    "miner = \"GJRT\"\n",
    "number_of_leading_zeroes = 4\n",
    "start = time.time()\n",
    "print(start)\n",
    "mine_cpen_442_coin_random_string(hash_of_preceding_coin, miner, number_of_leading_zeroes)\n",
    "end = time.time()\n",
    "print(end)\n",
    "time_taken = str(end - start)\n",
    "print(\"Time taken: \" + time_taken + \" seconds\")"
   ]
  },
  {
   "cell_type": "code",
   "execution_count": null,
   "metadata": {},
   "outputs": [],
   "source": []
  }
 ],
 "metadata": {
  "kernelspec": {
   "display_name": "Python 3",
   "language": "python",
   "name": "python3"
  },
  "language_info": {
   "codemirror_mode": {
    "name": "ipython",
    "version": 3
   },
   "file_extension": ".py",
   "mimetype": "text/x-python",
   "name": "python",
   "nbconvert_exporter": "python",
   "pygments_lexer": "ipython3",
   "version": "3.8.3"
  },
  "vscode": {
   "interpreter": {
    "hash": "2ec447c49d8510418cbcaa8147c656a63699d8a9548cf213371a14c6c6716598"
   }
  }
 },
 "nbformat": 4,
 "nbformat_minor": 4
}
